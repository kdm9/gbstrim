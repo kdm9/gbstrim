{
 "cells": [
  {
   "cell_type": "code",
   "execution_count": 1,
   "metadata": {
    "collapsed": false
   },
   "outputs": [],
   "source": [
    "import skbio\n",
    "import screed\n",
    "from itertools import izip"
   ]
  },
  {
   "cell_type": "code",
   "execution_count": 2,
   "metadata": {
    "collapsed": false
   },
   "outputs": [],
   "source": [
    "ssw = skbio.alignment.StripedSmithWaterman"
   ]
  },
  {
   "cell_type": "code",
   "execution_count": 3,
   "metadata": {
    "collapsed": false
   },
   "outputs": [],
   "source": [
    "pst1 = ssw(\"CTGCA\")"
   ]
  },
  {
   "cell_type": "code",
   "execution_count": 4,
   "metadata": {
    "collapsed": false
   },
   "outputs": [],
   "source": [
    "fh = open(\"/home/kevin/ws/gbstrim/data/EMarginata1910_10_B8_il.fastq\")\n",
    "reads = screed.fastq.fastq_iter(fh)"
   ]
  },
  {
   "cell_type": "code",
   "execution_count": 5,
   "metadata": {
    "collapsed": false
   },
   "outputs": [],
   "source": [
    "def pairitr(reads):\n",
    "    pair = [None, None]\n",
    "    for rnum, read in enumerate(reads):\n",
    "        if rnum % 2 == 0:\n",
    "            pair[0] = read\n",
    "        else:\n",
    "            pair[1] = read\n",
    "            yield pair\n",
    "\n",
    "def printrecs(*recs):\n",
    "    for r in recs:\n",
    "        print \"@{name} {annotations}\\n{sequence}\\n+\\n{quality}\".format(**r)"
   ]
  },
  {
   "cell_type": "code",
   "execution_count": 10,
   "metadata": {
    "collapsed": false
   },
   "outputs": [
    {
     "name": "stdout",
     "output_type": "stream",
     "text": [
      "63\n",
      "                        TGCAGGAGTTGGGCCGACTTCTTGTGGATTTTGTGGCCCAAGGGATCGAAGCTCGTGGATTGAATTTGCTGCAACGCAGATCGGAAGAGCGGTTCA\n",
      "CACGACGCTCTTCCGATCTACCGTTGCAGGAGTTGGGCCGACTTCTTGTGGATTTTGTGGCCCAAGGGATCGAAGCTCGTGGATTGAATTTGCTGCA\n",
      "                                                                                                 |\n",
      "                        TGCAGGAGTTGGGCCGACTTCTTGTGGATTTTGTGGCCCAAGGGATCGAAGCTCGTGGATTGA\n"
     ]
    }
   ],
   "source": [
    "for rpair in pairitr(reads):\n",
    "    r1, r2 =  rpair\n",
    "    r1aln = pst1(r1[\"sequence\"][5:])\n",
    "    r2aln = pst1(r2[\"sequence\"][5:])\n",
    "    if r1aln.query_begin != 0 or r1aln.query_end != 4 or \\\n",
    "            r2aln.query_begin != 0 or r2aln.query_end != 4:\n",
    "        continue\n",
    "        ##printrecs(r1, r2)\n",
    "        #break\n",
    "    if r1aln.target_begin == r2aln.target_begin:\n",
    "        #r1[\"sequence\"] = r1[\"sequence\"][:r1aln.target_begin]\n",
    "        #r1[\"quality\"] = r1[\"quality\"][:r1aln.target_begin]\n",
    "        #r2[\"sequence\"] = \"N\"\n",
    "        #r2[\"quality\"] = \"#\"\n",
    "        #printrecs(r1, r2)\n",
    "        print r1aln.target_begin\n",
    "        print ' ' * (len(r1[\"sequence\"]) - r1aln.target_begin - 10), r1[\"sequence\"]\n",
    "        print  skbio.sequence.DNASequence(r2[\"sequence\"]).reverse_complement()\n",
    "        print ' ' * (len(r1[\"sequence\"])), '|' \n",
    "        print ' ' * (len(r1[\"sequence\"]) - r1aln.target_begin - 10), r1[\"sequence\"][:r1aln.target_begin]\n",
    "        #print ssw(r1[\"sequence\"])(r2[\"sequence\"])\n",
    "        break"
   ]
  },
  {
   "cell_type": "code",
   "execution_count": null,
   "metadata": {
    "collapsed": false
   },
   "outputs": [],
   "source": []
  }
 ],
 "metadata": {
  "kernelspec": {
   "display_name": "Python 2",
   "language": "python",
   "name": "python2"
  },
  "language_info": {
   "codemirror_mode": {
    "name": "ipython",
    "version": 2
   },
   "file_extension": ".py",
   "mimetype": "text/x-python",
   "name": "python",
   "nbconvert_exporter": "python",
   "pygments_lexer": "ipython2",
   "version": "2.7.9"
  }
 },
 "nbformat": 4,
 "nbformat_minor": 0
}
